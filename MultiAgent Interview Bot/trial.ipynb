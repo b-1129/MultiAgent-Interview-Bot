{
 "cells": [
  {
   "cell_type": "code",
   "execution_count": 1,
   "id": "c4b348dc",
   "metadata": {},
   "outputs": [],
   "source": [
    "import os\n",
    "from dotenv import load_dotenv\n",
    "load_dotenv()\n",
    "from langchain_google_genai import ChatGoogleGenerativeAI\n",
    "from langchain_groq import ChatGroq\n",
    "from langchain.tools import Tool\n",
    "from langchain_core.runnables import RunnableConfig\n",
    "from langgraph.graph import StateGraph, START, END\n",
    "from typing import TypedDict, List, Optional\n",
    "from langchain_core.messages import AIMessage, HumanMessage"
   ]
  },
  {
   "cell_type": "code",
   "execution_count": 2,
   "id": "b77d79a4",
   "metadata": {},
   "outputs": [],
   "source": [
    "import requests\n",
    "from bs4 import BeautifulSoup\n",
    "from docx import Document\n",
    "from pypdf import PdfReader\n",
    "import speech_recognition as sr\n",
    "from gtts import gTTS\n",
    "import tempfile\n",
    "import docx\n",
    "import PyPDF2"
   ]
  },
  {
   "cell_type": "code",
   "execution_count": 3,
   "id": "c06f033d",
   "metadata": {},
   "outputs": [],
   "source": [
    "# LLMs\n",
    "llm = ChatGoogleGenerativeAI(model=\"gemini-2.5-pro\", temperature=0.3)"
   ]
  },
  {
   "cell_type": "code",
   "execution_count": 4,
   "id": "90812257",
   "metadata": {},
   "outputs": [],
   "source": [
    "# State Schema\n",
    "class InterviewState(TypedDict):\n",
    "    job_description: Optional[str]\n",
    "    interviewer_url: Optional[str]\n",
    "    company_url: Optional[str]\n",
    "    jd_summary: Optional[str]\n",
    "    resume_file_path: Optional[str]\n",
    "    resume_text: Optional[str]\n",
    "    resume_feedback: Optional[str]\n",
    "    qa_chat_history: List[str]\n",
    "    current_question: Optional[str]\n",
    "    round: int"
   ]
  },
  {
   "cell_type": "code",
   "execution_count": 5,
   "id": "b5005d6f",
   "metadata": {},
   "outputs": [],
   "source": [
    "# === AGENT 1 ===\n",
    "# Reviews JD, Interviewer, Company and summarizes\n",
    "\n",
    "def fetch_webpage_text(url):\n",
    "    try:\n",
    "        response = requests.get(url=url)\n",
    "        soup = BeautifulSoup(response.text, 'html.parser')\n",
    "        return soup.get_text()\n",
    "    except:\n",
    "        return \"Could not fetch or parse the URL\"\n",
    "    \n",
    "def agent1_review_web_sources(state:InterviewState)-> InterviewState:\n",
    "\n",
    "    interviewer_profile = fetch_webpage_text(state['interviewer_url'])\n",
    "    company_info = fetch_webpage_text(state['company_url'])\n",
    "\n",
    "    jd_summary = llm.invoke(f\"\"\"\n",
    "    Job Description: {state['job_description']}\n",
    "    Interviewer LinkedIn Profile: {interviewer_profile}\n",
    "    Company Info: {company_info}\n",
    "    \n",
    "    Summarize the role expectations, tech stake, interviewer background, Company focus, comapny values, and Interviewer's possible interests.\"\"\")\n",
    "\n",
    "    state[\"jd_summary\"] = jd_summary.content\n",
    "    return state\n"
   ]
  },
  {
   "cell_type": "code",
   "execution_count": 6,
   "id": "59586276",
   "metadata": {},
   "outputs": [],
   "source": [
    "# === AGENT 2 ===\n",
    "# Reviews resume and gives feedback\n",
    "\n",
    "def read_resume(file_path:str)-> str:\n",
    "    if file_path.endswith(\".pdf\"):\n",
    "        with open(file_path, \"rb\") as f:\n",
    "            reader = PyPDF2.PdfReader(f)\n",
    "            return \"\\n\".join([page.extract_text() for page in reader.pages])\n",
    "    elif file_path.endswith(\".docx\"):\n",
    "        doc = docx.Document(file_path)\n",
    "        return \"\\n\".join([para.text for para in doc.paragraphs])\n",
    "    else:\n",
    "        return \"Unsupported File Format.\"\n",
    "    \n",
    "\n",
    "def agent2_resume_feedback(state:InterviewState)->InterviewState:\n",
    "    resume_text = read_resume(state[\"resume_file_path\"])\n",
    "    state[\"resume_text\"] = resume_text\n",
    "\n",
    "    feedback = llm.invoke(f\"\"\"\n",
    "    Resume:{resume_text}\n",
    "    \n",
    "    based on the job description summary below:\n",
    "    {state['jd_summary']}\n",
    "    \n",
    "    Provide a detailed, constructive feedback on how to improve the resume for this role.\n",
    "    \"\"\")\n",
    "\n",
    "    state[\"resume_feedback\"] = feedback.content\n",
    "    return state\n"
   ]
  },
  {
   "cell_type": "code",
   "execution_count": 7,
   "id": "fa5be7f0",
   "metadata": {},
   "outputs": [],
   "source": [
    "# === AGENT 3 ===\n",
    "# Real-time Interview Agent\n",
    "\n",
    "def agent3_interview_conversation(state:InterviewState)-> InterviewState:\n",
    "    question_prompt = f\"\"\"\n",
    "    Based on this summary:\\n{state['jd_summary']}\\n\n",
    "    Ask a technical or behavioral interview question relevant for round {state['round']}\"\"\"\n",
    "\n",
    "    question = llm.invoke(question_prompt).content\n",
    "    print(f\"\\n🤖 Interviewer (Round {state['round']}): {question}\")\n",
    "\n",
    "    user_input = input(\"🧑 Candidate: \")\n",
    "    feedback_prompt = f\"\"\"\n",
    "    Interviewer asked: {question}\n",
    "    Candidate answered: {user_input}\n",
    "    Now, give detailed evaluation and an ideal answer with explanation.\"\"\"\n",
    "\n",
    "    feedback = llm.invoke(feedback_prompt).content\n",
    "    print(f\"\\n🤖 Interviewer Feedback: {feedback}\")\n",
    "\n",
    "    state[\"qa_chat_history\"]= state[\"qa_chat_history\"].append([{\"question\": question, \"answer\": user_input, \"feedback\": feedback}])\n",
    "    state[\"round\"] = state[\"round\"] + 1\n",
    "    return state"
   ]
  },
  {
   "cell_type": "code",
   "execution_count": 9,
   "id": "d4fc7bf2",
   "metadata": {},
   "outputs": [],
   "source": [
    "workflow = StateGraph(InterviewState)\n",
    "\n",
    "workflow.add_node(\"agent1_review_web_sources\",agent1_review_web_sources)\n",
    "workflow.add_node(\"agent2_resume_feedback\",agent2_resume_feedback)\n",
    "workflow.add_node(\"agent3_interview_conversation\",agent3_interview_conversation)\n",
    "\n",
    "workflow.set_entry_point(\"agent1_review_web_sources\")\n",
    "workflow.add_edge(\"agent1_review_web_sources\",\"agent2_resume_feedback\")\n",
    "workflow.add_edge(\"agent2_resume_feedback\",\"agent3_interview_conversation\")\n",
    "\n",
    "# Loop logic\n",
    "total_rounds = 3\n",
    "\n",
    "def should_continue(state: InterviewState):\n",
    "    return \"agent3_interview_conversation\" if state[\"round\"] <= total_rounds else END\n",
    "\n",
    "workflow.add_conditional_edges(\"agent3_interview_conversation\", should_continue)\n",
    "# workflow.set_finish_point(END)\n",
    "\n",
    "app = workflow.compile()\n"
   ]
  },
  {
   "cell_type": "code",
   "execution_count": 10,
   "id": "781a1385",
   "metadata": {},
   "outputs": [
    {
     "data": {
      "image/png": "[encoded data removed]",
      "text/plain": [
       "<langgraph.graph.state.CompiledStateGraph object at 0x000001E86A232270>"
      ]
     },
     "execution_count": 10,
     "metadata": {},
     "output_type": "execute_result"
    }
   ],
   "source": [
    "app"
   ]
  },
  {
   "cell_type": "code",
   "execution_count": null,
   "id": "01192273",
   "metadata": {},
   "outputs": [],
   "source": []
  }
 ],
 "metadata": {
  "kernelspec": {
   "display_name": ".venv",
   "language": "python",
   "name": "python3"
  },
  "language_info": {
   "codemirror_mode": {
    "name": "ipython",
    "version": 3
   },
   "file_extension": ".py",
   "mimetype": "text/x-python",
   "name": "python",
   "nbconvert_exporter": "python",
   "pygments_lexer": "ipython3",
   "version": "3.13.3"
  }
 },
 "nbformat": 4,
 "nbformat_minor": 5
}
